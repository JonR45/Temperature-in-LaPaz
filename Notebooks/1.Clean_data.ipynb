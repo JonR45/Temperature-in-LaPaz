{
 "cells": [
  {
   "cell_type": "markdown",
   "id": "ad2d02f1-b6af-4dc9-b5f9-104766c18a63",
   "metadata": {},
   "source": [
    "# Data cleaning"
   ]
  },
  {
   "cell_type": "code",
   "execution_count": 1,
   "id": "d3b58181-7460-433b-987c-f41626d6a106",
   "metadata": {
    "scrolled": true
   },
   "outputs": [],
   "source": [
    "import pandas as pd\n",
    "import datetime"
   ]
  },
  {
   "cell_type": "markdown",
   "id": "11d035d9-3145-4a95-8473-b7f20354f23a",
   "metadata": {},
   "source": [
    "## Load the data"
   ]
  },
  {
   "cell_type": "markdown",
   "id": "c3654b2d-3eb0-4bac-a190-510b3456f5e2",
   "metadata": {},
   "source": [
    "The data is in 3 separate csv files so I'll load each of them and then merge them into 1 dataframe."
   ]
  },
  {
   "cell_type": "code",
   "execution_count": 5,
   "id": "db573c47-8b94-4298-8f55-38e49dab9982",
   "metadata": {
    "scrolled": true
   },
   "outputs": [],
   "source": [
    "# load the data - each file contains 2 years of data\n",
    "data_1 = pd.read_csv('../Data/Raw/la paz mexico 2014-12-01 to 2016-11-30.csv')\n",
    "data_2 = pd.read_csv('../Data/Raw/la paz mexico 2016-12-01 to 2018-11-30.csv')\n",
    "data_3 = pd.read_csv('../Data/Raw/la paz mexico 2018-12-01 to 2020-11-30.csv')\n",
    "data_4 = pd.read_csv('../Data/Raw/la paz mexico 2020-12-01 to 2022-11-30.csv')\n",
    "\n",
    "# turn the raw data into a dataframe\n",
    "df_1 = pd.DataFrame(data=data_1)\n",
    "df_2 = pd.DataFrame(data=data_2)\n",
    "df_3 = pd.DataFrame(data=data_3)\n",
    "df_4 = pd.DataFrame(data=data_4)"
   ]
  },
  {
   "cell_type": "markdown",
   "id": "e9f137de-561e-4a23-a1ab-065bacca52fe",
   "metadata": {},
   "source": [
    "All the dataframes have the same columns so I can stack them together easily. \n",
    "\n",
    "### _ignore_index = True_\n",
    "Note that when concatenating the dataframes I set _ignore_index_ to True otherwise the indices will not be unique. i.e., there are 730 entries in the first dataframe and so these will have the index 0 to 730, the first entry of the next dataframe will then have the index 0... this makes locating data confusing so if we set _ignore_index_ to True then instead of starting again at 0 the next index will be 731... see the hashed out code below for visual example of what it would look like without ifnore_index=True."
   ]
  },
  {
   "cell_type": "code",
   "execution_count": 3,
   "id": "ee465973-a296-4612-8b77-6b359bd3caf6",
   "metadata": {
    "scrolled": true
   },
   "outputs": [],
   "source": [
    "# example of merging without specifying ignore_index=True\n",
    "# df = pd.concat([df_1, df_2, df_3, df_4])\n",
    "\n",
    "# there are 730 rows in the first dataframe so we see below that the first entry of the second dataframe \n",
    "# starts again at 0\n",
    "# df.head(735)"
   ]
  },
  {
   "cell_type": "code",
   "execution_count": 4,
   "id": "8067323d-f425-4a73-8f54-2a338b0b9898",
   "metadata": {
    "scrolled": true
   },
   "outputs": [],
   "source": [
    "# merge all 4 dataframes together\n",
    "df = pd.concat([df_1, df_2, df_3, df_4], ignore_index=True)"
   ]
  },
  {
   "cell_type": "markdown",
   "id": "78082586-a9e6-4df3-acae-02ca7426bd1c",
   "metadata": {},
   "source": [
    "## Check for null values"
   ]
  },
  {
   "cell_type": "code",
   "execution_count": 5,
   "id": "242f2825-5c3e-45eb-9b35-805aedb3375c",
   "metadata": {
    "scrolled": true
   },
   "outputs": [
    {
     "name": "stdout",
     "output_type": "stream",
     "text": [
      "<class 'pandas.core.frame.DataFrame'>\n",
      "RangeIndex: 2922 entries, 0 to 2921\n",
      "Data columns (total 33 columns):\n",
      " #   Column            Non-Null Count  Dtype  \n",
      "---  ------            --------------  -----  \n",
      " 0   name              2922 non-null   object \n",
      " 1   datetime          2922 non-null   object \n",
      " 2   tempmax           2922 non-null   float64\n",
      " 3   tempmin           2922 non-null   float64\n",
      " 4   temp              2922 non-null   float64\n",
      " 5   feelslikemax      2922 non-null   float64\n",
      " 6   feelslikemin      2922 non-null   float64\n",
      " 7   feelslike         2922 non-null   float64\n",
      " 8   dew               2922 non-null   float64\n",
      " 9   humidity          2922 non-null   float64\n",
      " 10  precip            2922 non-null   float64\n",
      " 11  precipprob        2922 non-null   int64  \n",
      " 12  precipcover       2922 non-null   float64\n",
      " 13  preciptype        1762 non-null   object \n",
      " 14  snow              2191 non-null   float64\n",
      " 15  snowdepth         2192 non-null   float64\n",
      " 16  windgust          1437 non-null   float64\n",
      " 17  windspeed         2922 non-null   float64\n",
      " 18  winddir           2922 non-null   float64\n",
      " 19  sealevelpressure  2921 non-null   float64\n",
      " 20  cloudcover        2922 non-null   float64\n",
      " 21  visibility        2922 non-null   float64\n",
      " 22  solarradiation    2922 non-null   float64\n",
      " 23  solarenergy       2922 non-null   float64\n",
      " 24  uvindex           2922 non-null   int64  \n",
      " 25  severerisk        325 non-null    float64\n",
      " 26  sunrise           2922 non-null   object \n",
      " 27  sunset            2922 non-null   object \n",
      " 28  moonphase         2922 non-null   float64\n",
      " 29  conditions        2922 non-null   object \n",
      " 30  description       2922 non-null   object \n",
      " 31  icon              2922 non-null   object \n",
      " 32  stations          2922 non-null   object \n",
      "dtypes: float64(22), int64(2), object(9)\n",
      "memory usage: 753.5+ KB\n"
     ]
    }
   ],
   "source": [
    "df.info()"
   ]
  },
  {
   "cell_type": "code",
   "execution_count": 6,
   "id": "64bc25c5-00b6-485a-bdb0-fdf16d67bab9",
   "metadata": {
    "scrolled": true,
    "tags": []
   },
   "outputs": [
    {
     "data": {
      "text/plain": [
       "name                   0\n",
       "datetime               0\n",
       "tempmax                0\n",
       "tempmin                0\n",
       "temp                   0\n",
       "feelslikemax           0\n",
       "feelslikemin           0\n",
       "feelslike              0\n",
       "dew                    0\n",
       "humidity               0\n",
       "precip                 0\n",
       "precipprob             0\n",
       "precipcover            0\n",
       "preciptype          1160\n",
       "snow                 731\n",
       "snowdepth            730\n",
       "windgust            1485\n",
       "windspeed              0\n",
       "winddir                0\n",
       "sealevelpressure       1\n",
       "cloudcover             0\n",
       "visibility             0\n",
       "solarradiation         0\n",
       "solarenergy            0\n",
       "uvindex                0\n",
       "severerisk          2597\n",
       "sunrise                0\n",
       "sunset                 0\n",
       "moonphase              0\n",
       "conditions             0\n",
       "description            0\n",
       "icon                   0\n",
       "stations               0\n",
       "dtype: int64"
      ]
     },
     "execution_count": 6,
     "metadata": {},
     "output_type": "execute_result"
    }
   ],
   "source": [
    "df.isnull().sum()"
   ]
  },
  {
   "cell_type": "markdown",
   "id": "a29e2f4c-cacb-40c3-ad9b-6203a6ddc0b2",
   "metadata": {},
   "source": [
    "The variable I'm interested in predicting ('temp') has 0 missing values which is great. I can now create a dataframe that contains only the 'temp' variable and the date."
   ]
  },
  {
   "cell_type": "markdown",
   "id": "a3c6d098-4d11-419b-b8ae-aff19b0fe0ce",
   "metadata": {},
   "source": [
    "## Create temperature dataframe"
   ]
  },
  {
   "cell_type": "code",
   "execution_count": 7,
   "id": "0744be7d-65a6-4d2b-9b33-7717728509d1",
   "metadata": {},
   "outputs": [
    {
     "data": {
      "text/html": [
       "<div>\n",
       "<style scoped>\n",
       "    .dataframe tbody tr th:only-of-type {\n",
       "        vertical-align: middle;\n",
       "    }\n",
       "\n",
       "    .dataframe tbody tr th {\n",
       "        vertical-align: top;\n",
       "    }\n",
       "\n",
       "    .dataframe thead th {\n",
       "        text-align: right;\n",
       "    }\n",
       "</style>\n",
       "<table border=\"1\" class=\"dataframe\">\n",
       "  <thead>\n",
       "    <tr style=\"text-align: right;\">\n",
       "      <th></th>\n",
       "      <th>datetime</th>\n",
       "      <th>temp</th>\n",
       "    </tr>\n",
       "  </thead>\n",
       "  <tbody>\n",
       "    <tr>\n",
       "      <th>0</th>\n",
       "      <td>2014-12-01</td>\n",
       "      <td>16.0</td>\n",
       "    </tr>\n",
       "    <tr>\n",
       "      <th>1</th>\n",
       "      <td>2014-12-02</td>\n",
       "      <td>14.1</td>\n",
       "    </tr>\n",
       "    <tr>\n",
       "      <th>2</th>\n",
       "      <td>2014-12-03</td>\n",
       "      <td>13.3</td>\n",
       "    </tr>\n",
       "    <tr>\n",
       "      <th>3</th>\n",
       "      <td>2014-12-04</td>\n",
       "      <td>13.2</td>\n",
       "    </tr>\n",
       "    <tr>\n",
       "      <th>4</th>\n",
       "      <td>2014-12-05</td>\n",
       "      <td>15.2</td>\n",
       "    </tr>\n",
       "  </tbody>\n",
       "</table>\n",
       "</div>"
      ],
      "text/plain": [
       "     datetime  temp\n",
       "0  2014-12-01  16.0\n",
       "1  2014-12-02  14.1\n",
       "2  2014-12-03  13.3\n",
       "3  2014-12-04  13.2\n",
       "4  2014-12-05  15.2"
      ]
     },
     "execution_count": 7,
     "metadata": {},
     "output_type": "execute_result"
    }
   ],
   "source": [
    "# create a dataframe that contains only the datetime and temperature columns\n",
    "df_temp = df[['datetime', 'temp']]\n",
    "df_temp.head()"
   ]
  },
  {
   "cell_type": "code",
   "execution_count": 8,
   "id": "1a1e51a6-06c9-47fc-815f-767793d14a56",
   "metadata": {},
   "outputs": [
    {
     "data": {
      "text/html": [
       "<div>\n",
       "<style scoped>\n",
       "    .dataframe tbody tr th:only-of-type {\n",
       "        vertical-align: middle;\n",
       "    }\n",
       "\n",
       "    .dataframe tbody tr th {\n",
       "        vertical-align: top;\n",
       "    }\n",
       "\n",
       "    .dataframe thead th {\n",
       "        text-align: right;\n",
       "    }\n",
       "</style>\n",
       "<table border=\"1\" class=\"dataframe\">\n",
       "  <thead>\n",
       "    <tr style=\"text-align: right;\">\n",
       "      <th></th>\n",
       "      <th>datetime</th>\n",
       "      <th>temp</th>\n",
       "    </tr>\n",
       "  </thead>\n",
       "  <tbody>\n",
       "    <tr>\n",
       "      <th>2204</th>\n",
       "      <td>2020-12-13</td>\n",
       "      <td>16.4</td>\n",
       "    </tr>\n",
       "  </tbody>\n",
       "</table>\n",
       "</div>"
      ],
      "text/plain": [
       "        datetime  temp\n",
       "2204  2020-12-13  16.4"
      ]
     },
     "execution_count": 8,
     "metadata": {},
     "output_type": "execute_result"
    }
   ],
   "source": [
    "df_temp.loc[df['datetime'] == '2020-12-13']"
   ]
  },
  {
   "cell_type": "markdown",
   "id": "22c1f37a-dd92-4bcc-a679-8d063e12b22a",
   "metadata": {},
   "source": [
    "### Export the temperature dataframe to .csv"
   ]
  },
  {
   "cell_type": "code",
   "execution_count": 9,
   "id": "4104df87-6a26-4746-a7ea-4ed55d2db0c3",
   "metadata": {},
   "outputs": [],
   "source": [
    "# export to csv file and save in current directory\n",
    "df_temp.to_csv('../Data/Pre-Processed/la_paz_temp_2014-2022.csv', index=False) # set index to False so we don't get two index columsn when we import this csv later on"
   ]
  }
 ],
 "metadata": {
  "kernelspec": {
   "display_name": "Python 3 (ipykernel)",
   "language": "python",
   "name": "python3"
  },
  "language_info": {
   "codemirror_mode": {
    "name": "ipython",
    "version": 3
   },
   "file_extension": ".py",
   "mimetype": "text/x-python",
   "name": "python",
   "nbconvert_exporter": "python",
   "pygments_lexer": "ipython3",
   "version": "3.10.11"
  }
 },
 "nbformat": 4,
 "nbformat_minor": 5
}
